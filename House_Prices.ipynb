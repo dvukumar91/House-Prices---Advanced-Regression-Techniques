{
 "cells": [
  {
   "cell_type": "code",
   "execution_count": null,
   "id": "141a4c9b",
   "metadata": {},
   "outputs": [],
   "source": [
    "import pandas as pd\n",
    "import numpy as np\n",
    "import matplotlib\n",
    "import plotly.express as px\n",
    "import matplotlib.pyplot as plt\n",
    "import seaborn as sns"
   ]
  },
  {
   "cell_type": "code",
   "execution_count": null,
   "id": "3152c919",
   "metadata": {},
   "outputs": [],
   "source": [
    "data = pd.read_csv('train.csv')\n",
    "test_data = pd.read_csv('test.csv')"
   ]
  },
  {
   "cell_type": "code",
   "execution_count": null,
   "id": "839ffa76",
   "metadata": {},
   "outputs": [],
   "source": [
    "data.info()"
   ]
  },
  {
   "cell_type": "code",
   "execution_count": null,
   "id": "20976f00",
   "metadata": {},
   "outputs": [],
   "source": [
    "data.info()"
   ]
  },
  {
   "cell_type": "code",
   "execution_count": null,
   "id": "ab5646f8",
   "metadata": {},
   "outputs": [],
   "source": []
  },
  {
   "cell_type": "code",
   "execution_count": null,
   "id": "51094b56",
   "metadata": {},
   "outputs": [],
   "source": [
    "numeric_train_cols"
   ]
  },
  {
   "cell_type": "code",
   "execution_count": null,
   "id": "dec83ae0",
   "metadata": {},
   "outputs": [],
   "source": [
    "sns.heatmap(data.isnull(),yticklabels = False,cbar = False)"
   ]
  },
  {
   "cell_type": "code",
   "execution_count": null,
   "id": "7b1eca85",
   "metadata": {},
   "outputs": [],
   "source": [
    "data"
   ]
  },
  {
   "cell_type": "code",
   "execution_count": null,
   "id": "26dc62a3",
   "metadata": {},
   "outputs": [],
   "source": [
    "data.drop(['Alley'],axis = 1,inplace = True)"
   ]
  },
  {
   "cell_type": "code",
   "execution_count": null,
   "id": "4f7550f1",
   "metadata": {},
   "outputs": [],
   "source": [
    "data.drop(['FireplaceQu'],axis = 1,inplace = True)"
   ]
  },
  {
   "cell_type": "code",
   "execution_count": null,
   "id": "5cb694b3",
   "metadata": {},
   "outputs": [],
   "source": [
    "data.drop(['PoolQC'],axis = 1,inplace = True)"
   ]
  },
  {
   "cell_type": "code",
   "execution_count": null,
   "id": "f77287a9",
   "metadata": {},
   "outputs": [],
   "source": [
    "data.drop(['Fence'],axis = 1,inplace = True)"
   ]
  },
  {
   "cell_type": "code",
   "execution_count": null,
   "id": "907ce946",
   "metadata": {},
   "outputs": [],
   "source": [
    "data.drop(['MiscFeature'],axis = 1,inplace = True)"
   ]
  },
  {
   "cell_type": "code",
   "execution_count": null,
   "id": "7a03e469",
   "metadata": {},
   "outputs": [],
   "source": [
    "test_data.drop(['FireplaceQu'],axis = 1,inplace = True)\n",
    "test_data.drop(['PoolQC'],axis = 1,inplace = True)\n",
    "test_data.drop(['Fence'],axis = 1,inplace = True)\n",
    "test_data.drop(['MiscFeature'],axis = 1,inplace = True)"
   ]
  },
  {
   "cell_type": "code",
   "execution_count": null,
   "id": "d8739343",
   "metadata": {},
   "outputs": [],
   "source": [
    "test_data.drop(['Alley'],axis = 1,inplace = True)"
   ]
  },
  {
   "cell_type": "code",
   "execution_count": null,
   "id": "372ddedf",
   "metadata": {},
   "outputs": [],
   "source": [
    "test_data.info()"
   ]
  },
  {
   "cell_type": "code",
   "execution_count": null,
   "id": "ae7eef70",
   "metadata": {},
   "outputs": [],
   "source": [
    "data.describe()"
   ]
  },
  {
   "cell_type": "code",
   "execution_count": null,
   "id": "05bce055",
   "metadata": {},
   "outputs": [],
   "source": [
    "data.info()"
   ]
  },
  {
   "cell_type": "code",
   "execution_count": null,
   "id": "1b81535a",
   "metadata": {},
   "outputs": [],
   "source": [
    "numeric_train_cols = data.select_dtypes(include = np.number).columns.tolist()[1:-1]\n",
    "categorical_train_cols = data.select_dtypes('object').columns.tolist()\n",
    "numeric_test_cols = test_data.select_dtypes(include = np.number).columns.tolist()[1:]\n",
    "categorical_test_cols = test_data.select_dtypes('object').columns.tolist()"
   ]
  },
  {
   "cell_type": "code",
   "execution_count": null,
   "id": "52abd0af",
   "metadata": {},
   "outputs": [],
   "source": [
    "test_data.info()"
   ]
  },
  {
   "cell_type": "code",
   "execution_count": null,
   "id": "652ac7c4",
   "metadata": {},
   "outputs": [],
   "source": [
    "from sklearn.impute import SimpleImputer"
   ]
  },
  {
   "cell_type": "code",
   "execution_count": null,
   "id": "5dabc39a",
   "metadata": {},
   "outputs": [],
   "source": [
    "imputer_mean = SimpleImputer(strategy = 'mean')"
   ]
  },
  {
   "cell_type": "code",
   "execution_count": null,
   "id": "03dd8a77",
   "metadata": {},
   "outputs": [],
   "source": [
    "imputer_mode = SimpleImputer(strategy = 'most_frequent')"
   ]
  },
  {
   "cell_type": "code",
   "execution_count": null,
   "id": "49ae988d",
   "metadata": {},
   "outputs": [],
   "source": [
    "data[numeric_train_cols].isna().sum()"
   ]
  },
  {
   "cell_type": "code",
   "execution_count": null,
   "id": "3eb6dbd5",
   "metadata": {},
   "outputs": [],
   "source": [
    "imputer_mean.fit(data[numeric_train_cols])\n",
    "imputer_mean.fit(test_data[numeric_train_cols])\n",
    "imputer_mode.fit(data[categorical_train_cols])\n",
    "imputer_mode.fit(test_data[categorical_train_cols])"
   ]
  },
  {
   "cell_type": "code",
   "execution_count": null,
   "id": "82fb2524",
   "metadata": {},
   "outputs": [],
   "source": [
    "data[numeric_train_cols] = imputer_mean.transform(data[numeric_train_cols])\n",
    "test_data[numeric_test_cols] = imputer_mean.transform(test_data[numeric_train_cols])\n",
    "data[categorical_train_cols] = imputer_mean.transform(data[categorical_train_cols])\n",
    "test_data[categorical_test_cols] = imputer_mean.transform(test_data[categorical_train_cols])"
   ]
  },
  {
   "cell_type": "code",
   "execution_count": null,
   "id": "f680d80b",
   "metadata": {},
   "outputs": [],
   "source": [
    "data[numeric_train_cols].info()"
   ]
  },
  {
   "cell_type": "code",
   "execution_count": null,
   "id": "1bfe1fff",
   "metadata": {},
   "outputs": [],
   "source": [
    "numeric_train_data = data[numeric_train_cols]\n",
    "numeric_test_data = test_data[numeric_train_cols]"
   ]
  },
  {
   "cell_type": "code",
   "execution_count": null,
   "id": "35ae2f0a",
   "metadata": {},
   "outputs": [],
   "source": [
    "numeric_train_data"
   ]
  },
  {
   "cell_type": "code",
   "execution_count": null,
   "id": "59f7e1dc",
   "metadata": {},
   "outputs": [],
   "source": []
  },
  {
   "cell_type": "code",
   "execution_count": null,
   "id": "94b29ee1",
   "metadata": {},
   "outputs": [],
   "source": [
    "numeric_test_data"
   ]
  },
  {
   "cell_type": "code",
   "execution_count": null,
   "id": "777c25b3",
   "metadata": {},
   "outputs": [],
   "source": [
    "from sklearn.preprocessing import OneHotEncoder"
   ]
  },
  {
   "cell_type": "code",
   "execution_count": null,
   "id": "a615a99d",
   "metadata": {},
   "outputs": [],
   "source": [
    "encoder = OneHotEncoder(sparse =False,handle_unknown = 'ignore')"
   ]
  },
  {
   "cell_type": "code",
   "execution_count": null,
   "id": "6d044a31",
   "metadata": {},
   "outputs": [],
   "source": [
    "encoder.fit(data[categorical_train_cols])\n",
    "encoder.fit(test_data[categorical_test_cols])"
   ]
  },
  {
   "cell_type": "code",
   "execution_count": null,
   "id": "d9732b6a",
   "metadata": {},
   "outputs": [],
   "source": [
    "encoder.categories_"
   ]
  },
  {
   "cell_type": "code",
   "execution_count": null,
   "id": "4f30acf8",
   "metadata": {},
   "outputs": [],
   "source": [
    "encoded_train_cols = list(encoder.get_feature_names(categorical_train_cols))\n",
    "encoded_test_cols = list(encoder.get_feature_names(categorical_test_cols))"
   ]
  },
  {
   "cell_type": "code",
   "execution_count": null,
   "id": "5ce8b796",
   "metadata": {},
   "outputs": [],
   "source": [
    "print(encoded_train_cols)"
   ]
  },
  {
   "cell_type": "code",
   "execution_count": null,
   "id": "e39dd6d1",
   "metadata": {},
   "outputs": [],
   "source": [
    "print(encoded_test_cols)"
   ]
  },
  {
   "cell_type": "code",
   "execution_count": null,
   "id": "3d6d4d8d",
   "metadata": {},
   "outputs": [],
   "source": [
    "numeric_train_data[encoded_train_cols] = encoder.transform(data[categorical_train_cols])"
   ]
  },
  {
   "cell_type": "code",
   "execution_count": null,
   "id": "cf9c36da",
   "metadata": {},
   "outputs": [],
   "source": [
    "numeric_test_data[encoded_test_cols] = encoder.transform(test_data[categorical_test_cols])"
   ]
  },
  {
   "cell_type": "code",
   "execution_count": null,
   "id": "18142653",
   "metadata": {},
   "outputs": [],
   "source": [
    "pd.set_option('display.max_columns',None)"
   ]
  },
  {
   "cell_type": "code",
   "execution_count": null,
   "id": "46edda6c",
   "metadata": {},
   "outputs": [],
   "source": [
    "numeric_train_data"
   ]
  },
  {
   "cell_type": "code",
   "execution_count": null,
   "id": "73371fe2",
   "metadata": {},
   "outputs": [],
   "source": [
    "numeric_test_data"
   ]
  },
  {
   "cell_type": "code",
   "execution_count": null,
   "id": "84341437",
   "metadata": {},
   "outputs": [],
   "source": [
    "target = data['SalePrice']"
   ]
  },
  {
   "cell_type": "code",
   "execution_count": null,
   "id": "7362d8d4",
   "metadata": {},
   "outputs": [],
   "source": [
    "target"
   ]
  },
  {
   "cell_type": "code",
   "execution_count": null,
   "id": "b76b8d62",
   "metadata": {},
   "outputs": [],
   "source": [
    "from sklearn.linear_model import LinearRegression"
   ]
  },
  {
   "cell_type": "code",
   "execution_count": null,
   "id": "bf6762f4",
   "metadata": {},
   "outputs": [],
   "source": [
    "model = LinearRegression().fit(numeric_train_data,target)"
   ]
  },
  {
   "cell_type": "code",
   "execution_count": null,
   "id": "46a53dba",
   "metadata": {},
   "outputs": [],
   "source": [
    "prediction = model.predict(numeric_test_data)"
   ]
  },
  {
   "cell_type": "code",
   "execution_count": null,
   "id": "b19194e3",
   "metadata": {},
   "outputs": [],
   "source": [
    "pd.set_option('display.max_columns',None)"
   ]
  },
  {
   "cell_type": "code",
   "execution_count": null,
   "id": "3f204cd7",
   "metadata": {},
   "outputs": [],
   "source": [
    "prediction"
   ]
  },
  {
   "cell_type": "code",
   "execution_count": null,
   "id": "fa71392e",
   "metadata": {},
   "outputs": [],
   "source": [
    "# create submission file\n",
    "prediction = pd.DataFrame(prediction)\n",
    "sub_df = pd.read_csv('sample_submission.csv')\n",
    "datasets = pd.concat([sub_df['Id'],prediction],axis = 1)\n",
    "datasets.columns = ['Id','SalePrice']\n",
    "datasets.to_csv('submission.csv',index = False)"
   ]
  },
  {
   "cell_type": "code",
   "execution_count": null,
   "id": "a17b856c",
   "metadata": {},
   "outputs": [],
   "source": []
  },
  {
   "cell_type": "code",
   "execution_count": null,
   "id": "e0f905d6",
   "metadata": {},
   "outputs": [],
   "source": []
  }
 ],
 "metadata": {
  "kernelspec": {
   "display_name": "Python 3",
   "language": "python",
   "name": "python3"
  },
  "language_info": {
   "codemirror_mode": {
    "name": "ipython",
    "version": 3
   },
   "file_extension": ".py",
   "mimetype": "text/x-python",
   "name": "python",
   "nbconvert_exporter": "python",
   "pygments_lexer": "ipython3",
   "version": "3.8.8"
  }
 },
 "nbformat": 4,
 "nbformat_minor": 5
}
